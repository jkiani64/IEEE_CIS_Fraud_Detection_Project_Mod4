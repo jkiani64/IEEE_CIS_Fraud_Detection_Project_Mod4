{
 "cells": [
  {
   "cell_type": "markdown",
   "metadata": {},
   "source": [
    "# Load the required libararies"
   ]
  },
  {
   "cell_type": "code",
   "execution_count": 1,
   "metadata": {},
   "outputs": [],
   "source": [
    "%load_ext autoreload\n",
    "%autoreload 2"
   ]
  },
  {
   "cell_type": "code",
   "execution_count": 203,
   "metadata": {},
   "outputs": [],
   "source": [
    "import pandas as pd\n",
    "from data_sampling import data_sampling\n",
    "from data_processing_cleaning import *\n",
    "import matplotlib.pyplot as plt\n",
    "import seaborn as sns\n",
    "from visualizations import *\n",
    "import warnings\n",
    "warnings.filterwarnings('ignore')\n",
    "from sklearn.model_selection import train_test_split\n",
    "from sklearn.decomposition import PCA\n",
    "from sklearn.pipeline import Pipeline\n",
    "from sklearn.preprocessing import StandardScaler, MinMaxScaler\n",
    "from training import *"
   ]
  },
  {
   "cell_type": "markdown",
   "metadata": {},
   "source": [
    "# Load the Main data set"
   ]
  },
  {
   "cell_type": "markdown",
   "metadata": {},
   "source": [
    "Imagine standing at the check-out counter at the grocery store with a long line behind you and the cashier not-so-quietly announces that your card has been declined. In this moment, you probably aren’t thinking about the data science that determined your fate.\n",
    "\n",
    "Embarrassed, and certain you have the funds to cover everything needed for an epic nacho party for 50 of your closest friends, you try your card again. Same result. As you step aside and allow the cashier to tend to the next customer, you receive a text message from your bank. “Press 1 if you really tried to spend $500 on cheddar cheese.”\n",
    "\n",
    "While perhaps cumbersome (and often embarrassing) in the moment, this fraud prevention system is actually saving consumers millions of dollars per year. Researchers from the IEEE Computational Intelligence Society (IEEE-CIS) want to improve this figure, while also improving the customer experience. With higher accuracy fraud detection, you can get on with your chips without the hassle.\n",
    "\n",
    "IEEE-CIS works across a variety of AI and machine learning areas, including deep neural networks, fuzzy systems, evolutionary computation, and swarm intelligence. Today they’re partnering with the world’s leading payment service company, Vesta Corporation, seeking the best solutions for fraud prevention industry, and now you are invited to join the challenge.\n",
    "\n",
    "In this competition, you’ll benchmark machine learning models on a challenging large-scale dataset. The data comes from Vesta's real-world e-commerce transactions and contains a wide range of features from device type to product features. You also have the opportunity to create new features to improve your results.\n",
    "\n",
    "If successful, you’ll improve the efficacy of fraudulent transaction alerts for millions of people around the world, helping hundreds of thousands of businesses reduce their fraud loss and increase their revenue. And of course, you will save party people just like you the hassle of false positives.\n",
    "\n",
    "Acknowledgements:\n",
    "\n",
    "\n",
    "\n",
    "Vesta Corporation provided the dataset for this competition. Vesta Corporation is the forerunner in guaranteed e-commerce payment solutions. Founded in 1995, Vesta pioneered the process of fully guaranteed card-not-present (CNP) payment transactions for the telecommunications industry. Since then, Vesta has firmly expanded data science and machine learning capabilities across the globe and solidified its position as the leader in guaranteed ecommerce payments. Today, Vesta guarantees more than $18B in transactions annually.\n",
    "\n",
    "Header Photo by Tim Evans on Unsplash"
   ]
  },
  {
   "cell_type": "code",
   "execution_count": 147,
   "metadata": {},
   "outputs": [],
   "source": [
    "#data_transaction_all = pd.read_csv('ieee-fraud-detection/train_transaction.csv')\n",
    "#data_identity_all = pd.read_csv('ieee-fraud-detection/train_identity.csv')"
   ]
  },
  {
   "cell_type": "markdown",
   "metadata": {},
   "source": [
    "### Get a sample dataset from the main dataset"
   ]
  },
  {
   "cell_type": "code",
   "execution_count": 148,
   "metadata": {},
   "outputs": [
    {
     "name": "stdout",
     "output_type": "stream",
     "text": [
      "The shape of the main data frame is: (590540, 435)\n",
      "(50000, 435)\n"
     ]
    }
   ],
   "source": [
    "#data_sampling(data_transaction_all, data_identity_all, sampling_number=50000)\n",
    "#del data_transaction_all, data_identity_all\n",
    "#df_IEEE = pd.read_csv('Data/Sampled_IEEE_data.csv')\n",
    "#print(df_IEEE.shape)\n",
    "#df_IEEE.head()"
   ]
  },
  {
   "cell_type": "markdown",
   "metadata": {},
   "source": [
    "### Processing Data for EDA"
   ]
  },
  {
   "cell_type": "code",
   "execution_count": null,
   "metadata": {},
   "outputs": [],
   "source": [
    "# Reduce the memory usage of the input dataframe\n",
    "df_IEEE = reduce_mem_usage(df_IEEE, verbose=True)"
   ]
  },
  {
   "cell_type": "code",
   "execution_count": null,
   "metadata": {},
   "outputs": [],
   "source": [
    "#What type of data we have on our data?\n",
    "resumetable(df_IEEE.iloc[:,:10])"
   ]
  },
  {
   "cell_type": "code",
   "execution_count": null,
   "metadata": {},
   "outputs": [],
   "source": [
    "# How many cols, rows, missing values we have?\n",
    "print('The number of datapoints is:', df_IEEE.shape[0])\n",
    "print('The number of features is:', df_IEEE.shape[1])\n",
    "print('The number of columns with missing values', sum(df_IEEE.isna().sum() != 0))\n",
    "print('The number of columns with more than 70% missing values', sum(df_IEEE.isna().sum() > 0.7 * df_IEEE.shape[0]))"
   ]
  },
  {
   "cell_type": "code",
   "execution_count": null,
   "metadata": {},
   "outputs": [],
   "source": [
    "# Clean the data for plotting and EDA\n",
    "df_IEEE = data_cleaning_for_EDA(df_IEEE)"
   ]
  },
  {
   "cell_type": "code",
   "execution_count": null,
   "metadata": {
    "scrolled": true
   },
   "outputs": [],
   "source": [
    "# What's the Transactions values distribution of fraud and no fraud transactions?\n",
    "plot_distributions_target(df_IEEE)"
   ]
  },
  {
   "cell_type": "markdown",
   "metadata": {},
   "source": [
    "As seen, the dataset is highly imbalanced and about 96.5% of the data belongs to the \"No Fraud\" class.\n",
    "\n",
    "In addition, about 95.6% of the total transactions are not fraud while 4.15% of transactions are fraud."
   ]
  },
  {
   "cell_type": "markdown",
   "metadata": {},
   "source": [
    "What features or target shows some interesting patterns?"
   ]
  },
  {
   "cell_type": "code",
   "execution_count": null,
   "metadata": {},
   "outputs": [],
   "source": [
    "transactions_distribution(df_IEEE)\n",
    "plt.show()"
   ]
  },
  {
   "cell_type": "markdown",
   "metadata": {},
   "source": [
    "## To remove outliers"
   ]
  },
  {
   "cell_type": "code",
   "execution_count": null,
   "metadata": {},
   "outputs": [],
   "source": [
    "# lets a look at the quantile of the \"TransactionAmt\"\n",
    "#df_IEEE['TransactionAmt'] = df_IEEE['TransactionAmt'].astype(float)\n",
    "print(\"Transaction Amounts Quantiles:\")\n",
    "print(df_IEEE['TransactionAmt'].quantile([.01, .025, .1, .25, .5, .75, .9, .975, .99]))"
   ]
  },
  {
   "cell_type": "code",
   "execution_count": null,
   "metadata": {},
   "outputs": [],
   "source": [
    "# plt.figure(figsize = (12, 6))\n",
    "# df_IEEE_WO = df_IEEE.loc[df_IEEE['TransactionAmt'] < df_IEEE['TransactionAmt'].quantile(0.99)]\n",
    "\n",
    "# sns.violinplot(y = 'TransactionAmt', data= df_IEEE_WO, orient = 'v', x='isFraud');"
   ]
  },
  {
   "cell_type": "code",
   "execution_count": null,
   "metadata": {},
   "outputs": [],
   "source": [
    "df_IEEE  = remove_otliers(df_IEEE, ['TransactionAmt'])"
   ]
  },
  {
   "cell_type": "markdown",
   "metadata": {},
   "source": [
    "### ProductCD Feature"
   ]
  },
  {
   "cell_type": "code",
   "execution_count": null,
   "metadata": {
    "scrolled": true
   },
   "outputs": [],
   "source": [
    "#Distribution of Products\n",
    "#Distribution of Frauds by Product\n",
    "Distribution_feature_fraud(df_IEEE, 'ProductCD', rotation = 0, feature_distribution=True)"
   ]
  },
  {
   "cell_type": "markdown",
   "metadata": {},
   "source": [
    " W, C and R are the most frequent values.\n",
    " \n",
    "For W, H, and R, the distribution of Fraud values are slightly higher than the Non-Fraud Transactions"
   ]
  },
  {
   "cell_type": "markdown",
   "metadata": {},
   "source": [
    "### Card 4 Feature"
   ]
  },
  {
   "cell_type": "code",
   "execution_count": null,
   "metadata": {},
   "outputs": [],
   "source": [
    "#Distribution of Card 4\n",
    "#Distribution of Frauds by Card 4\n",
    "Distribution_feature_fraud(df_IEEE.copy(), 'card4', loc = 1)"
   ]
  },
  {
   "cell_type": "markdown",
   "metadata": {},
   "source": [
    "The highest fraud is for discover"
   ]
  },
  {
   "cell_type": "markdown",
   "metadata": {},
   "source": [
    "### Card 6 Feature"
   ]
  },
  {
   "cell_type": "code",
   "execution_count": null,
   "metadata": {},
   "outputs": [],
   "source": [
    "#Distribution of Card 6\n",
    "#Distribution of Frauds by Card 6\n",
    "Distribution_feature_fraud(df_IEEE.copy(), 'card6', loc = 1)"
   ]
  },
  {
   "cell_type": "markdown",
   "metadata": {},
   "source": [
    "The highest percentage of fraud is for credit card."
   ]
  },
  {
   "cell_type": "markdown",
   "metadata": {},
   "source": [
    "### M features"
   ]
  },
  {
   "cell_type": "code",
   "execution_count": null,
   "metadata": {},
   "outputs": [],
   "source": [
    "for col in ['M1', 'M2', 'M3', 'M4', 'M5', 'M6', 'M7', 'M8', 'M9']:\n",
    "    Distribution_feature_fraud(df_IEEE, col)"
   ]
  },
  {
   "cell_type": "markdown",
   "metadata": {},
   "source": [
    "We can see that the highest percentage of fraud is for always for missing values (but not for M4)"
   ]
  },
  {
   "cell_type": "code",
   "execution_count": null,
   "metadata": {},
   "outputs": [],
   "source": [
    "Distribution_feature_fraud(df_IEEE.copy(), 'R_emaildomain', rotation = 30, feature_distribution=False)"
   ]
  },
  {
   "cell_type": "code",
   "execution_count": null,
   "metadata": {},
   "outputs": [],
   "source": [
    "Distribution_feature_fraud(df_IEEE.copy(), 'P_emaildomain', rotation = 30, feature_distribution=False)"
   ]
  },
  {
   "cell_type": "markdown",
   "metadata": {},
   "source": [
    "For both \"P_emaildomain\" and \"R_emaildomain\", the highest percentage of Fraud is for google and Microsoft"
   ]
  },
  {
   "cell_type": "code",
   "execution_count": null,
   "metadata": {},
   "outputs": [],
   "source": [
    "Distribution_feature_fraud(df_IEEE.copy(), 'addr1', rotation = 30, feature_distribution=False)"
   ]
  },
  {
   "cell_type": "code",
   "execution_count": null,
   "metadata": {},
   "outputs": [],
   "source": [
    "Distribution_feature_fraud(df_IEEE.copy(), 'addr2', rotation = 30, feature_distribution=True)"
   ]
  },
  {
   "cell_type": "markdown",
   "metadata": {},
   "source": [
    "Almost all entries in Addr2 are in the same value (87)."
   ]
  },
  {
   "cell_type": "code",
   "execution_count": null,
   "metadata": {},
   "outputs": [],
   "source": [
    "Distribution_feature_fraud(df_IEEE.copy(), 'C1', rotation = 0, feature_distribution=True)"
   ]
  },
  {
   "cell_type": "code",
   "execution_count": null,
   "metadata": {
    "scrolled": true
   },
   "outputs": [],
   "source": [
    "Distribution_feature_fraud(df_IEEE.copy(), 'C2', rotation = 30, feature_distribution=True)"
   ]
  },
  {
   "cell_type": "code",
   "execution_count": 11,
   "metadata": {},
   "outputs": [],
   "source": [
    "del df_IEEE"
   ]
  },
  {
   "cell_type": "markdown",
   "metadata": {},
   "source": [
    "# Feature Engineering and Training "
   ]
  },
  {
   "cell_type": "markdown",
   "metadata": {},
   "source": [
    "### Load Data"
   ]
  },
  {
   "cell_type": "code",
   "execution_count": 183,
   "metadata": {},
   "outputs": [],
   "source": [
    "df_IEEE = pd.read_csv('Data/Sampled_IEEE_data.csv')\n",
    "\n",
    "# Reduce the memory usage of the input dataframe\n",
    "#df_IEEE = reduce_mem_usage(df_IEEE, verbose=True)\n",
    "y = df_IEEE['isFraud']\n",
    "X = df_IEEE.drop(columns = 'isFraud', axis = 1)"
   ]
  },
  {
   "cell_type": "code",
   "execution_count": 210,
   "metadata": {},
   "outputs": [],
   "source": [
    "# Splitting data into train and test sets\n",
    "X_train, X_test, y_train, y_test = train_test_split(X, y, test_size = 0.25, stratify = y, random_state = 1364)\n",
    "#del df_IEEE"
   ]
  },
  {
   "cell_type": "markdown",
   "metadata": {},
   "source": [
    "### Feature Engineering"
   ]
  },
  {
   "cell_type": "code",
   "execution_count": 211,
   "metadata": {},
   "outputs": [],
   "source": [
    "#This function is used to generate new features\n",
    "#Note that this function deals with train and test datasets to prevent form data leakage\n",
    "X_train, X_test = Feature_Engineering(X_train, X_test)\n",
    "# X_train = reduce_mem_usage(X_train, verbose=True)\n",
    "# X_test = reduce_mem_usage(X_test, verbose=True)\n"
   ]
  },
  {
   "cell_type": "markdown",
   "metadata": {},
   "source": [
    "### Principal Component Analysis for Dimensionality Reduction"
   ]
  },
  {
   "cell_type": "markdown",
   "metadata": {},
   "source": [
    "There are about 339 v features in data. We are going to use PCA to reduce the dimmesion of these features "
   ]
  },
  {
   "cell_type": "code",
   "execution_count": 212,
   "metadata": {},
   "outputs": [],
   "source": [
    "#features started with v\n",
    "v_features = X_train.columns[54:393]"
   ]
  },
  {
   "cell_type": "code",
   "execution_count": 213,
   "metadata": {},
   "outputs": [
    {
     "name": "stdout",
     "output_type": "stream",
     "text": [
      "The explained variance using 30 components is 98.0%\n"
     ]
    },
    {
     "data": {
      "image/png": "[encoded data removed]",
      "text/plain": [
       "<Figure size 720x432 with 1 Axes>"
      ]
     },
     "metadata": {
      "needs_background": "light"
     },
     "output_type": "display_data"
    }
   ],
   "source": [
    "X_train, X_test = PCA_Dimensionality_Reduction(X_train.copy(),\n",
    "                                               X_test.copy(), \n",
    "                                               v_features, \n",
    "                                               n_components=30, \n",
    "                                               plot_pca = True)"
   ]
  },
  {
   "cell_type": "markdown",
   "metadata": {},
   "source": [
    "As seen using 30 components explains more than 98.0% of the variability in the data.\n",
    "\n",
    "Hence, we use the 30 first principal components, instead of v features, in dataframe."
   ]
  },
  {
   "cell_type": "markdown",
   "metadata": {},
   "source": [
    "### Missing Values"
   ]
  },
  {
   "cell_type": "markdown",
   "metadata": {},
   "source": [
    "#### Drop columns with more than 90% missing values"
   ]
  },
  {
   "cell_type": "code",
   "execution_count": 214,
   "metadata": {},
   "outputs": [],
   "source": [
    "X_train, X_test = data_cleaning_for_training(X_train, X_test)"
   ]
  },
  {
   "cell_type": "markdown",
   "metadata": {},
   "source": [
    "#### Dealing with the rest of missing values"
   ]
  },
  {
   "cell_type": "code",
   "execution_count": 215,
   "metadata": {},
   "outputs": [],
   "source": [
    "# Filling the rest of missing values\n",
    "X_train, X_test = fill_na_values(X_train, X_test)"
   ]
  },
  {
   "cell_type": "markdown",
   "metadata": {},
   "source": [
    "### Convert categorical variable into dummy/indicator variables."
   ]
  },
  {
   "cell_type": "code",
   "execution_count": 216,
   "metadata": {},
   "outputs": [],
   "source": [
    "#X_train, X_test = Convert_categorical_variables(X_train, X_test)\n",
    "X_train_LabelEncoder, X_test_LabelEncoder = Convert_LabelEncoder(X_train.copy(), X_test.copy())"
   ]
  },
  {
   "cell_type": "code",
   "execution_count": null,
   "metadata": {},
   "outputs": [],
   "source": []
  },
  {
   "cell_type": "code",
   "execution_count": null,
   "metadata": {},
   "outputs": [],
   "source": []
  }
 ],
 "metadata": {
  "kernelspec": {
   "display_name": "Python 3",
   "language": "python",
   "name": "python3"
  },
  "language_info": {
   "codemirror_mode": {
    "name": "ipython",
    "version": 3
   },
   "file_extension": ".py",
   "mimetype": "text/x-python",
   "name": "python",
   "nbconvert_exporter": "python",
   "pygments_lexer": "ipython3",
   "version": "3.7.1"
  }
 },
 "nbformat": 4,
 "nbformat_minor": 2
}
